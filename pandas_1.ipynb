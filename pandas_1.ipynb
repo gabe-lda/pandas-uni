{
  "nbformat": 4,
  "nbformat_minor": 0,
  "metadata": {
    "colab": {
      "provenance": []
    },
    "kernelspec": {
      "name": "python3",
      "display_name": "Python 3"
    },
    "language_info": {
      "name": "python"
    }
  },
  "cells": [
    {
      "cell_type": "markdown",
      "source": [
        "#Curso de Pandas"
      ],
      "metadata": {
        "id": "IdjJOkkaQ6_3"
      }
    },
    {
      "cell_type": "markdown",
      "source": [
        "## Obtendo dados da Série Histórica de Preços de Combustíveis e de GLP: Combustíveis automotivos"
      ],
      "metadata": {
        "id": "3QUYq7ybRIWL"
      }
    },
    {
      "cell_type": "code",
      "source": [
        "import pandas as pd\n",
        "import numpy as np\n",
        "import os"
      ],
      "metadata": {
        "id": "y3w2gAlvTOad"
      },
      "execution_count": 1,
      "outputs": []
    },
    {
      "cell_type": "code",
      "source": [
        "paths = []\n",
        "years = np.arange(2004, 2022, 1).tolist()\n",
        "semesters = [\"01\", \"02\"]\n",
        "path_2022_01 = \"https://www.gov.br/anp/pt-br/centrais-de-conteudo/dados-abertos/arquivos/shpc/dsas/ca/precos-semestrais-ca.zip\""
      ],
      "metadata": {
        "id": "ceXRJq2qRZ6n"
      },
      "execution_count": 2,
      "outputs": []
    },
    {
      "cell_type": "code",
      "source": [
        "for year in years:\n",
        "    for semester in semesters:\n",
        "        path = f\"https://www.gov.br/anp/pt-br/centrais-de-conteudo/dados-abertos/arquivos/shpc/dsas/ca/ca-{year}-{semester}.csv\"\n",
        "        paths.append(path)\n",
        "paths.append(path_2022_01)"
      ],
      "metadata": {
        "id": "55B5k4zeUCR1"
      },
      "execution_count": 3,
      "outputs": []
    },
    {
      "cell_type": "code",
      "source": [
        "for item in paths:\n",
        "    if item != path_2022_01:\n",
        "        os.system(f\"wget {item}\")\n",
        "    if item == path_2022_01:\n",
        "        os.system(f\"wget {item}\")\n",
        "        os.system(f\"unzip precos-semestrais-ca.zip\")"
      ],
      "metadata": {
        "id": "9hH8g8NCWuXy"
      },
      "execution_count": 4,
      "outputs": []
    },
    {
      "cell_type": "code",
      "source": [
        "os.rename(\"precos-semestrais-ca-2022-01.csv\", \"ca-2022-01.csv\")"
      ],
      "metadata": {
        "id": "VAfSP5ASbSV8"
      },
      "execution_count": 5,
      "outputs": []
    },
    {
      "cell_type": "code",
      "source": [
        "files = [f for f in os.listdir()]\n",
        "files.sort(reverse=True)\n",
        "for file in files:\n",
        "    if file.endswith(\".csv\"):\n",
        "        print(f\"processing {file}\")\n",
        "        if file == \"ca-2022-01.csv\":\n",
        "            tmp = pd.read_csv(file, sep=\";\", encoding=\"utf-8\", decimal=\",\")\n",
        "            tmp.to_csv(\"ca-200401-202201.csv\", index=False, header=True, mode='a')\n",
        "            print(f\"processed  {file}\")\n",
        "        if file == \"ca-2021-02.csv\" or file == \"ca-2021-01.csv\" or file == \"ca-2020-02.csv\" or file == \"ca-2020-01.csv\":\n",
        "            tmp = pd.read_csv(file, sep=\";\", encoding=\"ISO-8859-1\", decimal=\",\")\n",
        "            tmp.to_csv(\"ca-200401-202201.csv\", index=False, header=False, mode='a')\n",
        "            print(f\"processed  {file}\")\n",
        "        else:\n",
        "            tmp = pd.read_csv(file, sep=\";\", decimal=\",\")\n",
        "            tmp.to_csv(\"ca-200401-202201.csv\", index=False, header=False, mode='a')\n",
        "            print(f\"processed  {file}\")"
      ],
      "metadata": {
        "id": "m9LsMfAmdkyf"
      },
      "execution_count": null,
      "outputs": []
    },
    {
      "cell_type": "code",
      "source": [
        "tmp = pd.read_csv(\"ca-200401-202201.csv\", index_col=\"Data da Coleta\")"
      ],
      "metadata": {
        "id": "NVszflJh-X8_"
      },
      "execution_count": 2,
      "outputs": []
    },
    {
      "cell_type": "code",
      "source": [
        "tmp.index =  pd.to_datetime(tmp.index, format='%d/%m/%Y')\n",
        "tmp.sort_index()"
      ],
      "metadata": {
        "id": "3e10HEUzl7C4"
      },
      "execution_count": 8,
      "outputs": []
    },
    {
      "cell_type": "code",
      "source": [
        "combustiveis_df.info()"
      ],
      "metadata": {
        "colab": {
          "base_uri": "https://localhost:8080/"
        },
        "id": "tx0GDdZKnl1M",
        "outputId": "0613c9d1-abef-4ca5-feee-fab1476f2548"
      },
      "execution_count": 9,
      "outputs": [
        {
          "output_type": "stream",
          "name": "stdout",
          "text": [
            "<class 'pandas.core.frame.DataFrame'>\n",
            "DatetimeIndex: 22365710 entries, 2022-01-03 to 2004-06-28\n",
            "Data columns (total 15 columns):\n",
            " #   Column             Dtype  \n",
            "---  ------             -----  \n",
            " 0   Regiao - Sigla     object \n",
            " 1   Estado - Sigla     object \n",
            " 2   Municipio          object \n",
            " 3   Revenda            object \n",
            " 4   CNPJ da Revenda    object \n",
            " 5   Nome da Rua        object \n",
            " 6   Numero Rua         object \n",
            " 7   Complemento        object \n",
            " 8   Bairro             object \n",
            " 9   Cep                object \n",
            " 10  Produto            object \n",
            " 11  Valor de Venda     float64\n",
            " 12  Valor de Compra    float64\n",
            " 13  Unidade de Medida  object \n",
            " 14  Bandeira           object \n",
            "dtypes: float64(2), object(13)\n",
            "memory usage: 2.7+ GB\n"
          ]
        }
      ]
    },
    {
      "cell_type": "code",
      "source": [
        "combustiveis_df.to_parquet(\"ca-200401-202201.snappy.parquet\")"
      ],
      "metadata": {
        "id": "uV0wCBnhXk6g"
      },
      "execution_count": null,
      "outputs": []
    }
  ]
}